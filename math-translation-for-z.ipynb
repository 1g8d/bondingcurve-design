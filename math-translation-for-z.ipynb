{
 "cells": [
  {
   "cell_type": "code",
   "execution_count": 1,
   "metadata": {},
   "outputs": [],
   "source": [
    "import matplotlib.pyplot as plt\n",
    "import numpy as np\n",
    "import random\n",
    "import math"
   ]
  },
  {
   "cell_type": "code",
   "execution_count": 43,
   "metadata": {},
   "outputs": [],
   "source": [
    "##########################################\n",
    "# This block is a literal translation of #\n",
    "# src/math.ts                            #\n",
    "##########################################\n",
    "\n",
    "# Computes the price at a specific reserve `R`\n",
    "def getPriceR(R, V0, k):\n",
    "    return (k * R ** ((k - 1) / k)) / V0 ** (1 / k)\n",
    "\n",
    "# Compute slippage at a point `R`, given a `deltaR`\n",
    "def getSlippage(R, deltaR, V0, k):\n",
    "    S = (V0 * R) ** (1 / k)\n",
    "    deltaS = (V0 * (R + deltaR)) ** (1 / k) - S\n",
    "    realizedPrice = deltaR / deltaS\n",
    "    spotPrice = getPriceR(R, V0, k)\n",
    "    return abs(realizedPrice - spotPrice) / spotPrice\n",
    "\n",
    "# Get deltaR for a given price growth factor\n",
    "def getDeltaR_priceGrowth(R, k, priceGrowth):\n",
    "    return -R + (priceGrowth * R ** (1 - 1 / k)) ** (k / (-1 + k))\n",
    "\n",
    "# Computes a tx distribution using a normal distribution,\n",
    "# Given a sum of tx value and a number of transactions\n",
    "# Demo: https://codepen.io/anon/pen/mNqJjv?editors=0010#0\n",
    "def getTxDistribution(_sum, num):\n",
    "    mean = _sum / num\n",
    "    off = mean * 4\n",
    "    x = []\n",
    "    for i in range(0, int(num)):\n",
    "        x.append(randn_bm(mean - off, mean + off))\n",
    "    return x\n",
    "\n",
    "# Random variable uniformly distributed\n",
    "def rv_U(min, max):\n",
    "    return random.random() * (max - min) + min\n",
    "\n",
    "\n",
    "# Standard Normal variate using Box-Muller transform.\n",
    "# by https://stackoverflow.com/questions/25582882/javascript-math-random-normal-distribution-gaussian-bell-curve/36481059#36481059\n",
    "def randn_bm(min, max):\n",
    "    u = 0\n",
    "    v = 0\n",
    "    while (u == 0):\n",
    "        u = random.random() # Converting [0,1) to (0,1)\n",
    "    while (v == 0):\n",
    "        v = random.random()\n",
    "    num = math.sqrt(-2.0 * math.log(u)) * math.cos(2.0 * math.pi * v)\n",
    "    \n",
    "    num = num / 10.0 + 0.5; # Translate to 0 -> 1\n",
    "    if (num > 1) or (num < 0):\n",
    "        num = randn_bm(min, max) # resample between 0 and 1 if out of range\n",
    "    num *= max - min # Stretch to fill range\n",
    "    num += min # offset to min\n",
    "    return num\n"
   ]
  },
  {
   "cell_type": "code",
   "execution_count": 46,
   "metadata": {},
   "outputs": [],
   "source": [
    "##########################################\n",
    "# This block represent the user choices  #\n",
    "# src/App.ts                             #\n",
    "##########################################\n",
    "\n",
    "# Given data\n",
    "d0 = 1e6\n",
    "theta = 0.35\n",
    "p0 = 0.1\n",
    "p1 = 0.3\n",
    "wFee = 0.05\n",
    "\n",
    "# Initial params\n",
    "k = p1 / p0 / (1 - theta)\n",
    "R0 = (1 - theta) * d0\n",
    "S0 = d0 / p0\n",
    "V0 = S0 ** k / R0"
   ]
  },
  {
   "cell_type": "code",
   "execution_count": 49,
   "metadata": {},
   "outputs": [],
   "source": [
    "##########################################\n",
    "# Literal translation of the price walk  #\n",
    "# in src/App.ts                          #\n",
    "##########################################\n",
    "\n",
    "# Price walk\n",
    "R_t = [R0]\n",
    "p_t = [getPriceR(R0, V0, k)]\n",
    "wFee_t = [0]\n",
    "slippage_t = []\n",
    "avgTxSize_t = []\n",
    "\n",
    "numSteps = 52\n",
    "\n",
    "for t in range(0, numSteps):\n",
    "    txsWeek = rv_U(5, 2 * t + 5)\n",
    "    priceGrowth = rv_U(0.99, 1.03)\n",
    "\n",
    "    R = R_t[-1]\n",
    "    deltaR = getDeltaR_priceGrowth(R, k, priceGrowth)\n",
    "\n",
    "    R_next = R + deltaR\n",
    "    txs = getTxDistribution(deltaR, txsWeek)\n",
    "    # Compute slippage\n",
    "    slippage_txs = [getSlippage(R, txR, V0, k) for txR in txs]\n",
    "    slippage = np.mean(slippage_txs)\n",
    "    \n",
    "    txsWithdraw = filter(lambda tx: tx < 0, txs)\n",
    "    wFees = -wFee * sum(txsWithdraw)\n",
    "\n",
    "    # Store variables\n",
    "    R_t.append(R_next)\n",
    "    p_t.append(getPriceR(R_next, V0, k))\n",
    "    slippage_t.append(slippage)\n",
    "    wFee_t.append(wFees)"
   ]
  },
  {
   "cell_type": "code",
   "execution_count": 56,
   "metadata": {},
   "outputs": [
    {
     "data": {
      "text/plain": [
       "Text(0, 0.5, 'Price')"
      ]
     },
     "execution_count": 56,
     "metadata": {},
     "output_type": "execute_result"
    },
    {
     "data": {
      "image/png": "[encoded data removed]",
      "text/plain": [
       "<Figure size 432x288 with 1 Axes>"
      ]
     },
     "metadata": {
      "needs_background": "light"
     },
     "output_type": "display_data"
    }
   ],
   "source": [
    "##########################################\n",
    "# Same graph as the one showed after     #\n",
    "# clicking \"Run simulation\"              #\n",
    "##########################################\n",
    "\n",
    "plt.plot(p_t)\n",
    "plt.xlabel('Weeks')\n",
    "plt.ylabel('Price')"
   ]
  },
  {
   "cell_type": "code",
   "execution_count": null,
   "metadata": {},
   "outputs": [],
   "source": []
  }
 ],
 "metadata": {
  "kernelspec": {
   "display_name": "Python 3",
   "language": "python",
   "name": "python3"
  },
  "language_info": {
   "codemirror_mode": {
    "name": "ipython",
    "version": 3
   },
   "file_extension": ".py",
   "mimetype": "text/x-python",
   "name": "python",
   "nbconvert_exporter": "python",
   "pygments_lexer": "ipython3",
   "version": "3.6.7"
  }
 },
 "nbformat": 4,
 "nbformat_minor": 2
}
